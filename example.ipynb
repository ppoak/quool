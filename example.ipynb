{
 "cells": [
  {
   "cell_type": "markdown",
   "metadata": {},
   "source": [
    "# Quool\n",
    "\n",
    "In quantative finance, the most important thing is to deal with data. And most of time, we are dealing with data. Quool, which is short for \"quant tools\", provides us a useful toolkit when doing data analyzing. In the next part, we will share some frequently used examples when analysing data.\n",
    "\n",
    "By all means, quool is very easy to use. If you have a data series, no matter what type it is, whether a series or a dataframe, it can be used in this way: `data.actor.act()`. In this code, `actor` is a data accessor, which performs lots of actions on the data, once in a time, we can do the `act` on the data.\n",
    "\n",
    "Next, we will explore this framework more specifically."
   ]
  },
  {
   "cell_type": "code",
   "execution_count": 1,
   "metadata": {},
   "outputs": [],
   "source": [
    "import warnings\n",
    "import quool as q\n",
    "import numpy as np\n",
    "import pandas as pd\n",
    "\n",
    "np.random.seed(1026)\n",
    "warnings.filterwarnings('ignore')"
   ]
  },
  {
   "cell_type": "markdown",
   "metadata": {},
   "source": [
    "## Preprocess\n",
    "\n",
    "Data preprocessing is a necessary step in most of the tasks. There are `Converter` and `Preprocessor` in the module of processor."
   ]
  },
  {
   "cell_type": "markdown",
   "metadata": {},
   "source": [
    "### Converter\n",
    "\n",
    "Converter can provide us a lot of useful method to change data from one form to another."
   ]
  },
  {
   "cell_type": "code",
   "execution_count": 2,
   "metadata": {},
   "outputs": [],
   "source": [
    "price0 = q.Series(np.random.normal(0, 1, size=200), \n",
    "    index=pd.date_range('2020-01-01', periods=200),\n",
    ")\n",
    "price1 = q.Series(np.random.normal(0, 1, size=1000), \n",
    "    index=pd.MultiIndex.from_product([pd.date_range('2020-01-01', periods=200), list('abcde')]),\n",
    ")\n",
    "ohlcv0 = q.DataFrame(np.random.normal(0, 1, size=(200, 5)),\n",
    "    index=pd.date_range('2020-01-01', periods=200),\n",
    "    columns=['open', 'high', 'low', 'close', 'volume'],\n",
    ")\n",
    "ohlcv1 = q.DataFrame(np.random.normal(0, 1, size=(1000, 5)),\n",
    "    index=pd.MultiIndex.from_product([pd.date_range('2020-01-01', periods=200), list('abcde')]),\n",
    "    columns=['open', 'high', 'low', 'close', 'volume'],\n",
    ")"
   ]
  },
  {
   "cell_type": "code",
   "execution_count": 10,
   "metadata": {},
   "outputs": [
    {
     "name": "stdout",
     "output_type": "stream",
     "text": [
      "\u001b[0;31mSignature:\u001b[0m\n",
      "\u001b[0mprice0\u001b[0m\u001b[0;34m.\u001b[0m\u001b[0mconverter\u001b[0m\u001b[0;34m.\u001b[0m\u001b[0mprice2ret\u001b[0m\u001b[0;34m(\u001b[0m\u001b[0;34m\u001b[0m\n",
      "\u001b[0;34m\u001b[0m    \u001b[0mperiod\u001b[0m\u001b[0;34m:\u001b[0m \u001b[0;34m'str | int'\u001b[0m\u001b[0;34m,\u001b[0m\u001b[0;34m\u001b[0m\n",
      "\u001b[0;34m\u001b[0m    \u001b[0mopen_col\u001b[0m\u001b[0;34m:\u001b[0m \u001b[0mstr\u001b[0m \u001b[0;34m=\u001b[0m \u001b[0;34m'close'\u001b[0m\u001b[0;34m,\u001b[0m\u001b[0;34m\u001b[0m\n",
      "\u001b[0;34m\u001b[0m    \u001b[0mclose_col\u001b[0m\u001b[0;34m:\u001b[0m \u001b[0mstr\u001b[0m \u001b[0;34m=\u001b[0m \u001b[0;34m'close'\u001b[0m\u001b[0;34m,\u001b[0m\u001b[0;34m\u001b[0m\n",
      "\u001b[0;34m\u001b[0m    \u001b[0mmethod\u001b[0m\u001b[0;34m:\u001b[0m \u001b[0mstr\u001b[0m \u001b[0;34m=\u001b[0m \u001b[0;34m'algret'\u001b[0m\u001b[0;34m,\u001b[0m\u001b[0;34m\u001b[0m\n",
      "\u001b[0;34m\u001b[0m    \u001b[0mlag\u001b[0m\u001b[0;34m:\u001b[0m \u001b[0mint\u001b[0m \u001b[0;34m=\u001b[0m \u001b[0;36m1\u001b[0m\u001b[0;34m,\u001b[0m\u001b[0;34m\u001b[0m\n",
      "\u001b[0;34m\u001b[0m\u001b[0;34m)\u001b[0m\u001b[0;34m\u001b[0m\u001b[0;34m\u001b[0m\u001b[0m\n",
      "\u001b[0;31mDocstring:\u001b[0m\n",
      "Convert the price information to return information\n",
      "------------------------------------------------------\n",
      "\n",
      "period: str or int or DateOffset, if in str and DateOffset format,\n",
      "    return will be in like resample format, otherwise, you can get rolling\n",
      "    return formatted data\n",
      "open_col: str, if you pass a dataframe, you need to assign which column\n",
      "    represents open price\n",
      "colse_col: str, the same as open_col, but to assign close price\n",
      "method: str, choose between 'algret' and 'logret'\n",
      "lag: int, define how many day as lagged after the day of calculation forward return\n",
      "\u001b[0;31mFile:\u001b[0m      ~/quool/quool/processor.py\n",
      "\u001b[0;31mType:\u001b[0m      method\n"
     ]
    }
   ],
   "source": [
    "price0.converter.price2ret?"
   ]
  },
  {
   "cell_type": "code",
   "execution_count": 4,
   "metadata": {},
   "outputs": [],
   "source": [
    "ret0 = price0.converter.price2ret(period=1)\n",
    "ret1 = price1.converter.price2ret(period='1m')\n",
    "ret2 = price1.converter.price2ret(period='1m', lag=2)\n",
    "ret3 = ohlcv0.converter.price2ret(period=2, open_col='open', close_col='close')\n",
    "ret4 = ohlcv1.converter.price2ret(period=-1, method='logret', lag=2)"
   ]
  },
  {
   "cell_type": "code",
   "execution_count": 5,
   "metadata": {},
   "outputs": [
    {
     "data": {
      "text/plain": [
       "2020-01-01    2.497211\n",
       "2020-01-02   -0.487662\n",
       "2020-01-03   -0.302976\n",
       "2020-01-04   -1.449111\n",
       "2020-01-05   -0.481712\n",
       "Freq: D, dtype: float64"
      ]
     },
     "execution_count": 5,
     "metadata": {},
     "output_type": "execute_result"
    }
   ],
   "source": [
    "ret0.head()"
   ]
  },
  {
   "cell_type": "code",
   "execution_count": 6,
   "metadata": {},
   "outputs": [
    {
     "data": {
      "text/plain": [
       "2020-01-31  a    30.925992\n",
       "            b    -3.238043\n",
       "            c    -1.563171\n",
       "            d     1.881095\n",
       "            e    -7.986508\n",
       "dtype: float64"
      ]
     },
     "execution_count": 6,
     "metadata": {},
     "output_type": "execute_result"
    }
   ],
   "source": [
    "ret1.head()"
   ]
  },
  {
   "cell_type": "code",
   "execution_count": 7,
   "metadata": {},
   "outputs": [
    {
     "data": {
      "text/plain": [
       "2020-01-31  a    30.925992\n",
       "            b    -3.238043\n",
       "            c    -1.563171\n",
       "            d     1.881095\n",
       "            e    -7.986508\n",
       "dtype: float64"
      ]
     },
     "execution_count": 7,
     "metadata": {},
     "output_type": "execute_result"
    }
   ],
   "source": [
    "ret2.head()"
   ]
  },
  {
   "cell_type": "code",
   "execution_count": 8,
   "metadata": {},
   "outputs": [
    {
     "data": {
      "text/plain": [
       "2020-01-01         NaN\n",
       "2020-01-02         NaN\n",
       "2020-01-03    3.666224\n",
       "2020-01-04    0.466979\n",
       "2020-01-05   -0.154025\n",
       "Freq: D, dtype: float64"
      ]
     },
     "execution_count": 8,
     "metadata": {},
     "output_type": "execute_result"
    }
   ],
   "source": [
    "ret3.head()"
   ]
  },
  {
   "cell_type": "code",
   "execution_count": 9,
   "metadata": {},
   "outputs": [
    {
     "data": {
      "text/plain": [
       "2020-01-01  a    0.281725\n",
       "            b    0.693562\n",
       "            c   -0.264021\n",
       "            d         NaN\n",
       "            e         NaN\n",
       "Name: close, dtype: float64"
      ]
     },
     "execution_count": 9,
     "metadata": {},
     "output_type": "execute_result"
    }
   ],
   "source": [
    "ret4.head()"
   ]
  },
  {
   "cell_type": "code",
   "execution_count": null,
   "metadata": {},
   "outputs": [],
   "source": []
  }
 ],
 "metadata": {
  "kernelspec": {
   "display_name": "Python 3.9.13 ('base')",
   "language": "python",
   "name": "python3"
  },
  "language_info": {
   "codemirror_mode": {
    "name": "ipython",
    "version": 3
   },
   "file_extension": ".py",
   "mimetype": "text/x-python",
   "name": "python",
   "nbconvert_exporter": "python",
   "pygments_lexer": "ipython3",
   "version": "3.9.13"
  },
  "orig_nbformat": 4,
  "vscode": {
   "interpreter": {
    "hash": "e513617bb56fda1eeb32c258a91a1e94f0525c63115ee8d45570384db0a5f516"
   }
  }
 },
 "nbformat": 4,
 "nbformat_minor": 2
}
