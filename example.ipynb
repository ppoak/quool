{
 "cells": [
  {
   "cell_type": "code",
   "execution_count": 2,
   "metadata": {},
   "outputs": [],
   "source": [
    "import quool as q\n",
    "import numpy as np\n",
    "import pandas as pd"
   ]
  },
  {
   "cell_type": "code",
   "execution_count": 5,
   "metadata": {},
   "outputs": [],
   "source": [
    "a = q.Series(np.random.normal(0, 1, size=1000))"
   ]
  },
  {
   "cell_type": "code",
   "execution_count": 12,
   "metadata": {},
   "outputs": [
    {
     "data": {
      "text/plain": [
       "<AxesSubplot:ylabel='Frequency'>"
      ]
     },
     "execution_count": 12,
     "metadata": {},
     "output_type": "execute_result"
    },
    {
     "data": {
      "image/png": "[encoded data removed]",
      "text/plain": [
       "<Figure size 864x576 with 1 Axes>"
      ]
     },
     "metadata": {
      "needs_background": "light"
     },
     "output_type": "display_data"
    }
   ],
   "source": [
    "a.preprocessor.deextreme(method='std').drawer.draw('hist', bins=100)"
   ]
  },
  {
   "cell_type": "code",
   "execution_count": 14,
   "metadata": {},
   "outputs": [
    {
     "data": {
      "text/html": [
       "<pre style=\"white-space:pre;overflow-x:auto;line-height:normal;font-family:Menlo,'DejaVu Sans Mono',consolas,'Courier New',monospace\"><span style=\"font-style: italic\">             Table              </span>\n",
       "┏━━━━━━━┳━━━━━━━━━━━━━━━━━━━━━━┓\n",
       "┃<span style=\"font-weight: bold\"> index </span>┃<span style=\"font-weight: bold\">          0           </span>┃\n",
       "┡━━━━━━━╇━━━━━━━━━━━━━━━━━━━━━━┩\n",
       "│   0   │ 0.011893729771931368 │\n",
       "│   1   │ -0.29653642220336646 │\n",
       "│   2   │  1.1759514401809659  │\n",
       "│   3   │ 0.19446006958787215  │\n",
       "│   4   │ -0.5971658551386925  │\n",
       "│   5   │  0.5289250320576966  │\n",
       "│   6   │  -1.088872332134424  │\n",
       "│   7   │  1.1166002009223326  │\n",
       "│   8   │  1.9532403301504313  │\n",
       "│   9   │  0.3304757056456227  │\n",
       "│  ...  │         ...          │\n",
       "│  990  │  0.8758957226598775  │\n",
       "│  991  │ 0.33827528185765177  │\n",
       "│  992  │ -1.9515971957787672  │\n",
       "│  993  │ -2.2953804012218506  │\n",
       "│  994  │  0.815466959606096   │\n",
       "│  995  │  -0.79128626371363   │\n",
       "│  996  │  1.043200572099546   │\n",
       "│  997  │ -0.07944432684982769 │\n",
       "│  998  │  2.071906545818764   │\n",
       "│  999  │ -0.5105938425527393  │\n",
       "└───────┴──────────────────────┘\n",
       "</pre>\n"
      ],
      "text/plain": [
       "\u001b[3m             Table              \u001b[0m\n",
       "┏━━━━━━━┳━━━━━━━━━━━━━━━━━━━━━━┓\n",
       "┃\u001b[1m \u001b[0m\u001b[1mindex\u001b[0m\u001b[1m \u001b[0m┃\u001b[1m \u001b[0m\u001b[1m         0          \u001b[0m\u001b[1m \u001b[0m┃\n",
       "┡━━━━━━━╇━━━━━━━━━━━━━━━━━━━━━━┩\n",
       "│   0   │ 0.011893729771931368 │\n",
       "│   1   │ -0.29653642220336646 │\n",
       "│   2   │  1.1759514401809659  │\n",
       "│   3   │ 0.19446006958787215  │\n",
       "│   4   │ -0.5971658551386925  │\n",
       "│   5   │  0.5289250320576966  │\n",
       "│   6   │  -1.088872332134424  │\n",
       "│   7   │  1.1166002009223326  │\n",
       "│   8   │  1.9532403301504313  │\n",
       "│   9   │  0.3304757056456227  │\n",
       "│  ...  │         ...          │\n",
       "│  990  │  0.8758957226598775  │\n",
       "│  991  │ 0.33827528185765177  │\n",
       "│  992  │ -1.9515971957787672  │\n",
       "│  993  │ -2.2953804012218506  │\n",
       "│  994  │  0.815466959606096   │\n",
       "│  995  │  -0.79128626371363   │\n",
       "│  996  │  1.043200572099546   │\n",
       "│  997  │ -0.07944432684982769 │\n",
       "│  998  │  2.071906545818764   │\n",
       "│  999  │ -0.5105938425527393  │\n",
       "└───────┴──────────────────────┘\n"
      ]
     },
     "metadata": {},
     "output_type": "display_data"
    }
   ],
   "source": [
    "a.printer.display()"
   ]
  }
 ],
 "metadata": {
  "kernelspec": {
   "display_name": "Python 3.9.13 ('base')",
   "language": "python",
   "name": "python3"
  },
  "language_info": {
   "codemirror_mode": {
    "name": "ipython",
    "version": 3
   },
   "file_extension": ".py",
   "mimetype": "text/x-python",
   "name": "python",
   "nbconvert_exporter": "python",
   "pygments_lexer": "ipython3",
   "version": "3.9.13"
  },
  "orig_nbformat": 4,
  "vscode": {
   "interpreter": {
    "hash": "e513617bb56fda1eeb32c258a91a1e94f0525c63115ee8d45570384db0a5f516"
   }
  }
 },
 "nbformat": 4,
 "nbformat_minor": 2
}
